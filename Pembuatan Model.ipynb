{
 "cells": [
  {
   "cell_type": "markdown",
   "metadata": {},
   "source": [
    "## Muat <i>libraries</i>"
   ]
  },
  {
   "cell_type": "code",
   "execution_count": 2,
   "metadata": {},
   "outputs": [],
   "source": [
    "# UNTUK PRAPROSES CITRA\n",
    "from numpy import expand_dims\n",
    "from keras.preprocessing import image\n",
    "from keras.applications.mobilenet import preprocess_input\n",
    "\n",
    "# UNTUK MEMUAT PRE-TRAINED MODEL & OPTIMIZER\n",
    "from keras.models import Model\n",
    "from keras.optimizers import Adam\n",
    "from keras.applications import MobileNet\n",
    "\n",
    "# UNTUK JARINGAN SARAF KONVOLUSI\n",
    "from keras.layers import Dense, GlobalAveragePooling2D, Conv2D, Flatten\n",
    "\n",
    "# UNTUK MENDAPATKAN NILAI LOSS PADA SAAT TRAINING\n",
    "from keras.metrics import categorical_crossentropy"
   ]
  },
  {
   "cell_type": "markdown",
   "metadata": {},
   "source": [
    "## Muat MobileNet dan buat <i>layers</i> tambahan"
   ]
  },
  {
   "cell_type": "code",
   "execution_count": 4,
   "metadata": {},
   "outputs": [],
   "source": [
    "# MUAT PRE-TRAINED MODEL(MobileNet) YANG TELAH DILATIH PADA DATASET ImageNet\n",
    "# include_top = Falses MEMILIKI ARTI BAHWA OUTPUT LAYER YANG BERISI 1000 NODE TIDAK IKUT DIMUAT\n",
    "base_model = MobileNet(weights = 'imagenet', include_top = False)\n",
    "\n",
    "# KITA TAMBAHKAN 3 HIIDEN LAYER BARU SEBELUM OUTPUT LAYER\n",
    "# HANYA BOBOT PADA 3 HIDDEN LAYER INILAH YANG DILATIH\n",
    "x = base_model.output\n",
    "x = GlobalAveragePooling2D()(x)\n",
    "x = Dense(1024, activation = 'relu')(x) # 1024 NODE DENGAN FUNGSI AKTIVASI ReLU\n",
    "x = Dense(1024, activation = 'relu')(x) \n",
    "x = Dense(512, activation = 'relu')(x)  # 512 NODE DENGAN FUNGSI AKTIVASI ReLU\n",
    "\n",
    "# OUTPUT LAYER YANG CUMA PUNYA DUA NODE\n",
    "# BUAT MENGKLASIFIKASIKAN KOCHENG DAN ANJING\n",
    "preds = Dense(2, activation = 'softmax')(x) # FUNGSI AKTIVASINYA SOFTMAX"
   ]
  },
  {
   "cell_type": "markdown",
   "metadata": {},
   "source": [
    "## Sesuaikan <i>input layer</i> dan <i>hidden layer</i>'nya"
   ]
  },
  {
   "cell_type": "code",
   "execution_count": 5,
   "metadata": {},
   "outputs": [],
   "source": [
    "model = Model(inputs=base_model.input, outputs=preds)"
   ]
  },
  {
   "cell_type": "markdown",
   "metadata": {},
   "source": [
    "## Tentukan <i>hidden</i> layers mana yang bobot'nya tidak dilatih ulang"
   ]
  },
  {
   "cell_type": "code",
   "execution_count": 6,
   "metadata": {},
   "outputs": [],
   "source": [
    "# SEMUA HIDDEN LAYERS TIDAK DILATIH ULANG\n",
    "for layer in model.layers:\n",
    "    layer.trainable = False\n",
    "    \n",
    "# DUA PULUH HIDDEN LAYER TERKAHIR AKAN TERLATIH KEMBALI\n",
    "for layer in model.layers[20:]:\n",
    "    layer.trainable = True"
   ]
  },
  {
   "cell_type": "markdown",
   "metadata": {},
   "source": [
    "## Praproses data citra digital'nya"
   ]
  },
  {
   "cell_type": "code",
   "execution_count": 8,
   "metadata": {},
   "outputs": [
    {
     "name": "stdout",
     "output_type": "stream",
     "text": [
      "Found 25000 images belonging to 2 classes.\n"
     ]
    }
   ],
   "source": [
    "# DATA MASUKAN PADA INPUT LAYER DIPRAPROSES\n",
    "train_datagen = image.ImageDataGenerator(preprocessing_function = preprocess_input)\n",
    "\n",
    "# JADIKAN SELURUH DATASET MENJADI DATA TRANINIG :V AWOKWKWKWKWKWKW\n",
    "train_generator = train_datagen.flow_from_directory('koceng',                 # NAMA FOLDER DATASET\n",
    "                                                   target_size = (224,224),    # UKURAN CITRA YANG BAKAL DILATIH\n",
    "                                                   color_mode = 'rgb',         # RED-GREEN-BLUE\n",
    "                                                   batch_size = 32,            # BATCH UNTUK UPDATE BOBOT & BIAS\n",
    "                                                   class_mode = 'categorical', # INI UNTUK KLASIFIKASI\n",
    "                                                   shuffle = True)             # DATA DIAMBIL SECARA ACAK"
   ]
  },
  {
   "cell_type": "markdown",
   "metadata": {},
   "source": [
    "## Latih ulang MobileNet pada <i>dataset</i> kucing dan anjing"
   ]
  },
  {
   "cell_type": "code",
   "execution_count": 7,
   "metadata": {},
   "outputs": [
    {
     "name": "stdout",
     "output_type": "stream",
     "text": [
      "Epoch 1/10\n",
      "781/781 [==============================] - 637s 816ms/step - loss: 0.1225 - acc: 0.9551\n",
      "Epoch 2/10\n",
      "781/781 [==============================] - 628s 804ms/step - loss: 0.0741 - acc: 0.9731\n",
      "Epoch 3/10\n",
      "781/781 [==============================] - 1165s 1s/step - loss: 0.0646 - acc: 0.9773\n",
      "Epoch 4/10\n",
      "781/781 [==============================] - 785s 1s/step - loss: 0.0518 - acc: 0.9816\n",
      "Epoch 5/10\n",
      "781/781 [==============================] - 641s 821ms/step - loss: 0.0486 - acc: 0.9815\n",
      "Epoch 6/10\n",
      "781/781 [==============================] - 646s 828ms/step - loss: 0.0400 - acc: 0.9858\n",
      "Epoch 7/10\n",
      "781/781 [==============================] - 657s 841ms/step - loss: 0.0382 - acc: 0.9863\n",
      "Epoch 8/10\n",
      "781/781 [==============================] - 662s 848ms/step - loss: 0.0376 - acc: 0.9864\n",
      "Epoch 9/10\n",
      "781/781 [==============================] - 663s 848ms/step - loss: 0.0392 - acc: 0.9876\n",
      "Epoch 10/10\n",
      "781/781 [==============================] - 656s 840ms/step - loss: 0.0240 - acc: 0.9919\n"
     ]
    },
    {
     "data": {
      "text/plain": [
       "<keras.callbacks.History at 0x1b40bbffe80>"
      ]
     },
     "execution_count": 7,
     "metadata": {},
     "output_type": "execute_result"
    }
   ],
   "source": [
    "# PARAMETER YANG DIGUNAKAN\n",
    "model.compile(optimizer = 'Adam',\n",
    "              loss = 'categorical_crossentropy',\n",
    "              metrics = ['accuracy'])\n",
    "\n",
    "step_size_train = train_generator.n//train_generator.batch_size\n",
    "\n",
    "# LATIH JARINGAN'NYA\n",
    "model.fit_generator(generator=train_generator,\n",
    "                   steps_per_epoch=step_size_train,\n",
    "                   epochs=10)"
   ]
  },
  {
   "cell_type": "markdown",
   "metadata": {},
   "source": [
    "Proses pelatihan 25000 gambar dilakukan saat ba'da mahgrib  sampai dengan jam delapan malam di lingkungan fakultas ilmu komputer upnvjatim. Malam-malam digigit nyamuk karena tidak di dalam ruangan(lab) :v"
   ]
  },
  {
   "cell_type": "markdown",
   "metadata": {},
   "source": [
    "## Uji model"
   ]
  },
  {
   "cell_type": "code",
   "execution_count": 13,
   "metadata": {},
   "outputs": [
    {
     "data": {
      "text/plain": [
       "array([[0.00498788, 0.9950121 ]], dtype=float32)"
      ]
     },
     "execution_count": 13,
     "metadata": {},
     "output_type": "execute_result"
    }
   ],
   "source": [
    "def load_image(img_path):\n",
    "    # PRAPROSES DATA UJI\n",
    "    img = image.load_img(img_path, target_size=(224, 224))\n",
    "    img_tensor = image.img_to_array(img)\n",
    "    img_tensor = expand_dims(img_tensor, axis=0)\n",
    "    img_tensor /= 255.\n",
    "\n",
    "    return img_tensor\n",
    "\n",
    "# AMBIL DATA UJI\n",
    "img_path = 'koceng/dog/dog.18.jpg'\n",
    "new_image = load_image(img_path)\n",
    "\n",
    "# PREDIKSI DATA UJI\n",
    "pred = model.predict(new_image)\n",
    "# CETAK HASIL PREDIKSI\n",
    "pred"
   ]
  },
  {
   "cell_type": "markdown",
   "metadata": {},
   "source": [
    "Probabilitas masukan berupa anjing :"
   ]
  },
  {
   "cell_type": "code",
   "execution_count": 14,
   "metadata": {},
   "outputs": [
    {
     "name": "stdout",
     "output_type": "stream",
     "text": [
      "0.004987885\n",
      "0.9950121\n"
     ]
    }
   ],
   "source": [
    "print(pred[0][0])\n",
    "print(pred[0][1])"
   ]
  },
  {
   "cell_type": "markdown",
   "metadata": {},
   "source": [
    "Ketika gambar yang dimasukan adalah gambar kucing :"
   ]
  },
  {
   "cell_type": "code",
   "execution_count": 10,
   "metadata": {
    "scrolled": true
   },
   "outputs": [
    {
     "name": "stdout",
     "output_type": "stream",
     "text": [
      "1.0\n",
      "6.1037415e-09\n"
     ]
    }
   ],
   "source": [
    "print(pred[0][0])\n",
    "print(pred[0][1])"
   ]
  },
  {
   "cell_type": "markdown",
   "metadata": {},
   "source": [
    "## Simpan model yang telah dilatih"
   ]
  },
  {
   "cell_type": "code",
   "execution_count": 8,
   "metadata": {},
   "outputs": [],
   "source": [
    "model.save(\"koceng_anjeng.h5\")"
   ]
  },
  {
   "cell_type": "markdown",
   "metadata": {},
   "source": [
    "Jika diperhatikan dengan seksama urutan eksekusi pada <i>cell</i> di Jupyter Notebook ini ada yang tidak berurutan<br>\n",
    "Ini dikarenakan Jupyter Notebook yang kami gunakan untuk melatih model CNN telah direfaktorisasi menjadi Jupyter Notebook yang seperti kalian lihat sekarang hehehe"
   ]
  },
  {
   "cell_type": "code",
   "execution_count": null,
   "metadata": {},
   "outputs": [],
   "source": []
  }
 ],
 "metadata": {
  "kernelspec": {
   "display_name": "Python 3",
   "language": "python",
   "name": "python3"
  },
  "language_info": {
   "codemirror_mode": {
    "name": "ipython",
    "version": 3
   },
   "file_extension": ".py",
   "mimetype": "text/x-python",
   "name": "python",
   "nbconvert_exporter": "python",
   "pygments_lexer": "ipython3",
   "version": "3.6.8"
  }
 },
 "nbformat": 4,
 "nbformat_minor": 2
}
